{
 "cells": [
  {
   "cell_type": "code",
   "execution_count": null,
   "metadata": {},
   "outputs": [],
   "source": [
    "#installling beautifulsoup\n",
    "# Importing BeautifulSoup and  \n",
    "# it is in the bs4 module \n",
    "from bs4 import BeautifulSoup \n",
    "  \n",
    "# Opening the html file. If the file \n",
    "# is present in different location,  \n",
    "# exact location need to be mentioned \n",
    "HTMLFileToBeOpened = open(\"samplehtml.html\", \"r\") \n",
    "  \n",
    "# Reading the file and storing in a variable \n",
    "contents = HTMLFileToBeOpened.read() \n",
    "  \n",
    "# Creating a BeautifulSoup object and \n",
    "# specifying the parser  \n",
    "beautifulSoupText = BeautifulSoup(contents, 'lxml') \n",
    "  \n",
    "  \n",
    "# Using the prettify method to modify the code \n",
    "#  Prettify() function in BeautifulSoup helps \n",
    "# to view about the tag nature and their nesting \n",
    "print(beautifulSoupText.body.prettify()) "
   ]
  }
 ],
 "metadata": {
  "kernelspec": {
   "display_name": "Python 3",
   "language": "python",
   "name": "python3"
  },
  "language_info": {
   "name": "python",
   "version": "3.11.5"
  }
 },
 "nbformat": 4,
 "nbformat_minor": 2
}
